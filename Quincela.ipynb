{
 "cells": [
  {
   "cell_type": "code",
   "execution_count": null,
   "id": "4dcdd68f-18a5-4807-8944-2e4072c153f1",
   "metadata": {},
   "outputs": [],
   "source": []
  }
 ],
 "metadata": {
  "kernelspec": {
   "display_name": "",
   "name": ""
  },
  "language_info": {
   "name": ""
  }
 },
 "nbformat": 4,
 "nbformat_minor": 5
}
